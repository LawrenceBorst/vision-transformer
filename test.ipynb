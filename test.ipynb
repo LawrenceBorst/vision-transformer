{
 "cells": [
  {
   "cell_type": "code",
   "execution_count": 4,
   "metadata": {},
   "outputs": [],
   "source": [
    "import setup\n",
    "import torch\n",
    "from torchvision import transforms\n",
    "from data import create_data_loaders\n",
    "\n",
    "\n",
    "setup.set_seed()\n",
    "device: torch.device = setup.get_device()\n",
    "CPU_COUNT: int = setup.get_cpu_count()\n",
    "MNIST_STATS: dict = {\"std\": [0.3081], \"mean\": [0.1307]}\n",
    "BATCH_SIZE: int = 32\n",
    "\n",
    "train_dir: str = \"static/MNIST/train\"\n",
    "test_dir: str = \"static/MNIST/test\"\n",
    "height: int = 224\n",
    "width: int = 224\n",
    "color_channels: int = 3\n",
    "patch_size: int = 16\n",
    "num_patches: int = (height // patch_size) * (width // patch_size)"
   ]
  },
  {
   "cell_type": "code",
   "execution_count": 5,
   "metadata": {},
   "outputs": [],
   "source": [
    "train_loader, test_loader, classes = create_data_loaders(\n",
    "    train_dir=train_dir,\n",
    "    test_dir=test_dir,\n",
    "    transform=transforms.Compose(\n",
    "        [\n",
    "            transforms.Resize((width, height)),\n",
    "            transforms.ToTensor(),\n",
    "            transforms.Normalize(**MNIST_STATS),\n",
    "        ]\n",
    "    ),\n",
    "    num_workers=CPU_COUNT,\n",
    ")"
   ]
  },
  {
   "cell_type": "code",
   "execution_count": null,
   "metadata": {},
   "outputs": [],
   "source": [
    "image, label = next(iter(train_loader))"
   ]
  },
  {
   "cell_type": "code",
   "execution_count": 11,
   "metadata": {},
   "outputs": [],
   "source": [
    "from torch import nn\n",
    "\n",
    "out_channels: int = color_channels * patch_size**2\n",
    "# Create the Conv2d layer from the ViT paper. The idea is to\n",
    "# treat the series as an image of patches that are mapped to the transformer input\n",
    "# via a learnable embedding. This is achievable with a convolution folllowed by a suitable projection as well\n",
    "conv2d = nn.Conv2d(\n",
    "    in_channels=color_channels,\n",
    "    out_channels=out_channels,  # Hidden size D i.e., embedding size\n",
    "    kernel_size=patch_size,\n",
    "    stride=patch_size,\n",
    "    padding=0,\n",
    ")\n",
    "\n",
    "# We flatten the spatial dimensions\n",
    "flatten = nn.Flatten(start_dim=2, end_dim=3)"
   ]
  },
  {
   "cell_type": "code",
   "execution_count": 18,
   "metadata": {},
   "outputs": [
    {
     "name": "stdout",
     "output_type": "stream",
     "text": [
      "torch.Size([1, 3, 224, 224])\n",
      "torch.Size([1, 196, 768])\n"
     ]
    }
   ],
   "source": [
    "image = torch.rand(color_channels, height, width)\n",
    "\n",
    "image = image.unsqueeze(0)\n",
    "print(image.shape)\n",
    "\n",
    "image = flatten(conv2d(image)).permute(0, 2, 1)\n",
    "print(image.shape)"
   ]
  }
 ],
 "metadata": {
  "kernelspec": {
   "display_name": "venv",
   "language": "python",
   "name": "python3"
  },
  "language_info": {
   "codemirror_mode": {
    "name": "ipython",
    "version": 3
   },
   "file_extension": ".py",
   "mimetype": "text/x-python",
   "name": "python",
   "nbconvert_exporter": "python",
   "pygments_lexer": "ipython3",
   "version": "3.12.5"
  }
 },
 "nbformat": 4,
 "nbformat_minor": 2
}
